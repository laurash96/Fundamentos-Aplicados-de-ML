{
 "cells": [
  {
   "cell_type": "markdown",
   "metadata": {},
   "source": [
    "Realiza los siguientes ejercicios básicos de Python"
   ]
  },
  {
   "cell_type": "markdown",
   "metadata": {},
   "source": [
    "Asegúrate de crear las celdas en donde corresponde:\n",
    "* Una celda separada para el código o función pedida\n",
    "* Otra celda para mostrar el uso de la función"
   ]
  },
  {
   "cell_type": "markdown",
   "metadata": {},
   "source": [
    "Define una función max() que tome como argumento dos números y devuelva el mayor de ellos. (Es cierto que python tiene una función max() incorporada, pero es buen ejercicio hacerla por tu cuenta)."
   ]
  },
  {
   "cell_type": "code",
   "execution_count": 25,
   "metadata": {},
   "outputs": [],
   "source": [
    "def max(n1, n2):\n",
    "    if(n1==n2):\n",
    "        max_t = n1\n",
    "    elif(n1 > n2):\n",
    "        max_t = n1\n",
    "    else:\n",
    "        max_t = n2\n",
    "    return max_t"
   ]
  },
  {
   "cell_type": "code",
   "execution_count": 31,
   "metadata": {},
   "outputs": [
    {
     "name": "stdout",
     "output_type": "stream",
     "text": [
      "El máximo es 45\n"
     ]
    }
   ],
   "source": [
    "max_number = max(45,45)\n",
    "print(\"El máximo es\", max_number)"
   ]
  },
  {
   "cell_type": "markdown",
   "metadata": {},
   "source": [
    "Define una función max_de_tres(), que tome tres números como argumentos y devuelva el mayor de ellos."
   ]
  },
  {
   "cell_type": "code",
   "execution_count": 17,
   "metadata": {},
   "outputs": [],
   "source": [
    "def max(n1, n2, n3):\n",
    "    if(n1==n2):\n",
    "        if n1 > n3:\n",
    "            max_t = n1\n",
    "        else:\n",
    "            max_t = n3  \n",
    "    elif(n2==n3):\n",
    "        if n2 > n3:\n",
    "            max_t = n2\n",
    "        else:\n",
    "            max_t = n3\n",
    "    elif(n1==n3):\n",
    "        if n1 > n3:\n",
    "            max_t = n1\n",
    "        else:\n",
    "            max_t = n3\n",
    "        \n",
    "    elif(n1 > n2)&(n1 > n3):\n",
    "        max_t = n1\n",
    "    elif (n2 > n1)&(n2 > n3):\n",
    "        max_t = n2\n",
    "    else:\n",
    "        max_t = n3\n",
    "    return max_t"
   ]
  },
  {
   "cell_type": "code",
   "execution_count": 24,
   "metadata": {},
   "outputs": [
    {
     "name": "stdout",
     "output_type": "stream",
     "text": [
      "El máximo es 30\n"
     ]
    }
   ],
   "source": [
    "max_number = max(15,30,30)\n",
    "print(\"El máximo es\", max_number)"
   ]
  },
  {
   "cell_type": "markdown",
   "metadata": {},
   "source": [
    "Define una función que calcule la longitud de una lista o una cadena dada. (Es cierto que python tiene la función len() incorporada, pero escríbela por tu cuenta)."
   ]
  },
  {
   "cell_type": "code",
   "execution_count": 44,
   "metadata": {},
   "outputs": [],
   "source": [
    "def longitud(cadena):\n",
    "    charNum = 0\n",
    "    for c in cadena:\n",
    "        charNum +=1 \n",
    "    return charNum"
   ]
  },
  {
   "cell_type": "code",
   "execution_count": 49,
   "metadata": {},
   "outputs": [
    {
     "name": "stdout",
     "output_type": "stream",
     "text": [
      "La longitud de la cadena es 4\n"
     ]
    }
   ],
   "source": [
    "cadena = \"Hola\"\n",
    "length=longitud(cadena)\n",
    "print(\"La longitud de la cadena es\", length)"
   ]
  },
  {
   "cell_type": "markdown",
   "metadata": {},
   "source": [
    "Escribe una función que tome un carácter y devuelva True si es una vocal, de lo contrario devuelve False.\n"
   ]
  },
  {
   "cell_type": "code",
   "execution_count": 53,
   "metadata": {},
   "outputs": [],
   "source": [
    "def isVocal(caracter):\n",
    "    vocales = ['a','e','i','o','u']\n",
    "    if caracter in vocales:\n",
    "        vocal = True\n",
    "    else:\n",
    "        vocal = False\n",
    "    return vocal"
   ]
  },
  {
   "cell_type": "code",
   "execution_count": 57,
   "metadata": {},
   "outputs": [
    {
     "name": "stdout",
     "output_type": "stream",
     "text": [
      "False : La letra es consonante\n"
     ]
    }
   ],
   "source": [
    "caracter = \"z\"\n",
    "letterType=isVocal(caracter)\n",
    "if(letterType == True):\n",
    "    print(letterType,\": La letra es vocal\")\n",
    "else:\n",
    "    print(letterType,\": La letra es consonante\")"
   ]
  },
  {
   "cell_type": "markdown",
   "metadata": {},
   "source": [
    "Escribe una función sum() y una función multip() que sumen y multipliquen respectivamente todos los números de una lista. Por ejemplo: sum([1,2,3,4]) debería devolver 10 y multip([1,2,3,4]) debería devolver 24."
   ]
  },
  {
   "cell_type": "code",
   "execution_count": 58,
   "metadata": {},
   "outputs": [],
   "source": [
    "def sum(numeros):\n",
    "    suma=0\n",
    "    for n in numeros:\n",
    "        suma=suma+n\n",
    "    return suma"
   ]
  },
  {
   "cell_type": "code",
   "execution_count": 64,
   "metadata": {},
   "outputs": [],
   "source": [
    "def multip(numeros):\n",
    "    multiplicacion=1\n",
    "    for n in numeros:\n",
    "        multiplicacion=multiplicacion*n\n",
    "    return multiplicacion"
   ]
  },
  {
   "cell_type": "code",
   "execution_count": 67,
   "metadata": {},
   "outputs": [
    {
     "data": {
      "text/plain": [
       "24"
      ]
     },
     "execution_count": 67,
     "metadata": {},
     "output_type": "execute_result"
    }
   ],
   "source": [
    "numeros = [3,8]\n",
    "multip(numeros)"
   ]
  },
  {
   "cell_type": "markdown",
   "metadata": {},
   "source": [
    "Define una función inversa() que calcule la inversión de una cadena. Por ejemplo la cadena \"estoy probando\" debería devolver la cadena \"odnaborp yotse\""
   ]
  },
  {
   "cell_type": "code",
   "execution_count": 75,
   "metadata": {},
   "outputs": [],
   "source": [
    "def inversa(cadena):\n",
    "    inv = cadena[::-1]\n",
    "    return inv"
   ]
  },
  {
   "cell_type": "code",
   "execution_count": 81,
   "metadata": {},
   "outputs": [
    {
     "name": "stdout",
     "output_type": "stream",
     "text": [
      "La cadena original es Hola y la cadena invertida es aloH\n"
     ]
    }
   ],
   "source": [
    "cadena = \"Hola\"\n",
    "invert=inversa(cadena)\n",
    "print(\"La cadena original es\", cadena, \"y la cadena invertida es\", invert)"
   ]
  },
  {
   "cell_type": "markdown",
   "metadata": {},
   "source": [
    "Define una función superposicion() que tome dos listas y devuelva True si tienen al menos 1 miembro en común o devuelva False de lo contrario. Escribir la función usando el bucle for anidado."
   ]
  },
  {
   "cell_type": "code",
   "execution_count": 135,
   "metadata": {},
   "outputs": [],
   "source": [
    "def superposicion(l1, l2):\n",
    "    n=1\n",
    "    m=1\n",
    "    common=0\n",
    "    for n in l1:\n",
    "        for m in l2:\n",
    "            if n==m:\n",
    "                common+=1\n",
    "    if common != 0:\n",
    "        return True\n",
    "    else: return False"
   ]
  },
  {
   "cell_type": "code",
   "execution_count": 142,
   "metadata": {},
   "outputs": [
    {
     "name": "stdout",
     "output_type": "stream",
     "text": [
      "Las listas tienen al menos un elemento en común\n"
     ]
    }
   ],
   "source": [
    "lista1 = [5,0,9,7]\n",
    "lista2 = [\"l\",0,7]\n",
    "\n",
    "coincidencia=superposicion(lista1,lista2)\n",
    "\n",
    "if(coincidencia==True):\n",
    "    print(\"Las listas tienen al menos un elemento en común\")\n",
    "elif(coincidencia==False):\n",
    "    print(\"Las listas no tienen elementos en común\")"
   ]
  },
  {
   "cell_type": "markdown",
   "metadata": {},
   "source": [
    "Define una función generar_n_caracteres() que tome un entero n y devuelva el caracter multiplicado por n. Por ejemplo: generar_n_caracteres(5, \"x\") debería devolver \"xxxxx\"."
   ]
  },
  {
   "cell_type": "code",
   "execution_count": 231,
   "metadata": {},
   "outputs": [],
   "source": [
    "def generar_n_caracteres(entero, caracter):\n",
    "    n=1\n",
    "    cadena=[caracter]\n",
    "    for n in range(1, entero, 1):\n",
    "        cadena+=caracter\n",
    "    joined_string = \"\".join(cadena)  \n",
    "    return joined_string\n",
    "        "
   ]
  },
  {
   "cell_type": "code",
   "execution_count": 239,
   "metadata": {},
   "outputs": [
    {
     "name": "stdout",
     "output_type": "stream",
     "text": [
      "xxxx\n"
     ]
    }
   ],
   "source": [
    "entero = 4\n",
    "caracter = \"x\"\n",
    "cadena = generar_n_caracteres(entero,caracter)\n",
    "print(cadena)"
   ]
  }
 ],
 "metadata": {
  "kernelspec": {
   "display_name": "Python 3",
   "language": "python",
   "name": "python3"
  },
  "language_info": {
   "codemirror_mode": {
    "name": "ipython",
    "version": 3
   },
   "file_extension": ".py",
   "mimetype": "text/x-python",
   "name": "python",
   "nbconvert_exporter": "python",
   "pygments_lexer": "ipython3",
   "version": "3.8.5"
  }
 },
 "nbformat": 4,
 "nbformat_minor": 4
}
